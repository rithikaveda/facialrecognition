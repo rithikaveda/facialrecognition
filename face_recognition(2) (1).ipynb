{
 "cells": [
  {
   "cell_type": "code",
   "execution_count": 1,
   "id": "33a4e3b9-edda-442d-804b-382241807b0d",
   "metadata": {},
   "outputs": [],
   "source": [
    "import cv2"
   ]
  },
  {
   "cell_type": "code",
   "execution_count": 2,
   "id": "8e9655a5-d86f-44be-963b-7a5ee3f8cc1b",
   "metadata": {},
   "outputs": [],
   "source": [
    "import face_recognition"
   ]
  },
  {
   "cell_type": "code",
   "execution_count": 3,
   "id": "9aafa249-e42f-4aac-baae-a4ebc77e473d",
   "metadata": {},
   "outputs": [],
   "source": [
    "known_face_encodings=[]\n",
    "known_face_names=[]\n",
    "known_person1_image=face_recognition.load_image_file(\"kcr.jpg\")\n",
    "known_person2_image=face_recognition.load_image_file(\"obama.jpg\")\n",
    "known_person3_image=face_recognition.load_image_file(\"trump.jpg\")\n"
   ]
  },
  {
   "cell_type": "code",
   "execution_count": 4,
   "id": "e9503555-0099-43d7-a5f0-a4f5658eb336",
   "metadata": {},
   "outputs": [],
   "source": [
    "known_person1_encoding=face_recognition.face_encodings(known_person1_image)[0]\n",
    "known_person2_encoding=face_recognition.face_encodings(known_person2_image)[0]\n",
    "known_person3_encoding=face_recognition.face_encodings(known_person3_image)[0]\n"
   ]
  },
  {
   "cell_type": "code",
   "execution_count": 5,
   "id": "8d89a5ee-17ba-462e-8a4e-3ba28ba85a80",
   "metadata": {},
   "outputs": [],
   "source": [
    "known_face_encodings.append(known_person1_encoding)\n",
    "known_face_encodings.append(known_person2_encoding)\n",
    "known_face_encodings.append(known_person3_encoding)\n"
   ]
  },
  {
   "cell_type": "code",
   "execution_count": 6,
   "id": "a9746f1d-f366-43f4-9468-14063ea6c5a3",
   "metadata": {},
   "outputs": [],
   "source": [
    "known_face_names.append(\"kcr\")\n",
    "known_face_names.append(\"obama\")\n",
    "known_face_names.append(\"trump\")"
   ]
  },
  {
   "cell_type": "code",
   "execution_count": 7,
   "id": "80f6fa49-500d-42f7-8572-8deedde6ca67",
   "metadata": {},
   "outputs": [],
   "source": [
    "video_capture=cv2.VideoCapture(0)\n",
    "while True:\n",
    "    ret,frame=video_capture.read()\n",
    "    face_locations=face_recognition.face_locations(frame)\n",
    "    face_encodings=face_recognition.face_encodings(frame,face_locations)\n",
    "    for(top,right,bottom,left), face_encoding in zip(face_locations,face_encodings):\n",
    "        matches=face_recognition.compare_faces(known_face_encodings,face_encoding)\n",
    "        name=\"unknown\"\n",
    "        if True in matches:\n",
    "            first_match_index=matches.index(True)\n",
    "            name=known_face_names[first_match_index]\n",
    "        cv2.rectangle(frame, (left,top), (right,bottom), (0,0,255),2)\n",
    "        cv2.putText(frame,name,(left,top-10),cv2.FONT_HERSHEY_SIMPLEX,0.9,(0,0,255),2)\n",
    "    cv2.imshow(\"video\",frame)\n",
    "    if cv2.waitKey(1) & 0xFF ==ord('q'):\n",
    "                                   break\n",
    "video_capture.release()\n",
    "cv2.destroyAllWindows()"
   ]
  },
  {
   "cell_type": "code",
   "execution_count": null,
   "id": "efeef11b-e5b8-4c67-a0e6-21b3a6350731",
   "metadata": {},
   "outputs": [],
   "source": []
  }
 ],
 "metadata": {
  "kernelspec": {
   "display_name": "Python 3 (ipykernel)",
   "language": "python",
   "name": "python3"
  },
  "language_info": {
   "codemirror_mode": {
    "name": "ipython",
    "version": 3
   },
   "file_extension": ".py",
   "mimetype": "text/x-python",
   "name": "python",
   "nbconvert_exporter": "python",
   "pygments_lexer": "ipython3",
   "version": "3.11.5"
  }
 },
 "nbformat": 4,
 "nbformat_minor": 5
}
